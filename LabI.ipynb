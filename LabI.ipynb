{
 "cells": [
  {
   "cell_type": "code",
   "execution_count": 1,
   "id": "aab97a15",
   "metadata": {},
   "outputs": [],
   "source": [
    "import numpy as np\n",
    "from skimage.transform import (hough_line, hough_line_peaks)\n",
    "import matplotlib.pyplot as plt\n",
    "from matplotlib import cm"
   ]
  },
  {
   "cell_type": "code",
   "execution_count": 3,
   "id": "95196f4e",
   "metadata": {},
   "outputs": [],
   "source": [
    "image = np.zeros((100, 100))\n",
    "idx = np.arange(25, 75)\n",
    "idy = np.ones(50,dtype=int)\n",
    "idy = idy * 25\n",
    "image[idx[::-1], idx] = 255\n",
    "image[idx, idy] = 255\n",
    "image[idy, idx] = 255"
   ]
  },
  {
   "cell_type": "code",
   "execution_count": 4,
   "id": "93cd5408",
   "metadata": {},
   "outputs": [
    {
     "data": {
      "text/plain": [
       "<matplotlib.image.AxesImage at 0x29f9a0dcee0>"
      ]
     },
     "execution_count": 4,
     "metadata": {},
     "output_type": "execute_result"
    },
    {
     "data": {
      "image/png": "[encoded data removed]",
      "text/plain": [
       "<Figure size 432x288 with 1 Axes>"
      ]
     },
     "metadata": {
      "needs_background": "light"
     },
     "output_type": "display_data"
    }
   ],
   "source": [
    "plt.imshow(image)"
   ]
  },
  {
   "cell_type": "code",
   "execution_count": 6,
   "id": "160f6959",
   "metadata": {
    "scrolled": false
   },
   "outputs": [
    {
     "data": {
      "text/plain": [
       "(array([[0, 0, 0, ..., 0, 0, 0],\n",
       "        [0, 0, 0, ..., 0, 0, 0],\n",
       "        [0, 0, 0, ..., 0, 0, 0],\n",
       "        ...,\n",
       "        [0, 0, 0, ..., 0, 0, 0],\n",
       "        [0, 0, 0, ..., 0, 0, 0],\n",
       "        [0, 0, 0, ..., 0, 0, 0]], dtype=uint64),\n",
       " array([-1.57079633, -1.55324553, -1.53569473, -1.51814394, -1.50059314,\n",
       "        -1.48304234, -1.46549155, -1.44794075, -1.43038995, -1.41283915,\n",
       "        -1.39528836, -1.37773756, -1.36018676, -1.34263597, -1.32508517,\n",
       "        -1.30753437, -1.28998358, -1.27243278, -1.25488198, -1.23733118,\n",
       "        -1.21978039, -1.20222959, -1.18467879, -1.167128  , -1.1495772 ,\n",
       "        -1.1320264 , -1.11447561, -1.09692481, -1.07937401, -1.06182322,\n",
       "        -1.04427242, -1.02672162, -1.00917082, -0.99162003, -0.97406923,\n",
       "        -0.95651843, -0.93896764, -0.92141684, -0.90386604, -0.88631525,\n",
       "        -0.86876445, -0.85121365, -0.83366286, -0.81611206, -0.79856126,\n",
       "        -0.78101046, -0.76345967, -0.74590887, -0.72835807, -0.71080728,\n",
       "        -0.69325648, -0.67570568, -0.65815489, -0.64060409, -0.62305329,\n",
       "        -0.60550249, -0.5879517 , -0.5704009 , -0.5528501 , -0.53529931,\n",
       "        -0.51774851, -0.50019771, -0.48264692, -0.46509612, -0.44754532,\n",
       "        -0.42999453, -0.41244373, -0.39489293, -0.37734213, -0.35979134,\n",
       "        -0.34224054, -0.32468974, -0.30713895, -0.28958815, -0.27203735,\n",
       "        -0.25448656, -0.23693576, -0.21938496, -0.20183416, -0.18428337,\n",
       "        -0.16673257, -0.14918177, -0.13163098, -0.11408018, -0.09652938,\n",
       "        -0.07897859, -0.06142779, -0.04387699, -0.0263262 , -0.0087754 ,\n",
       "         0.0087754 ,  0.0263262 ,  0.04387699,  0.06142779,  0.07897859,\n",
       "         0.09652938,  0.11408018,  0.13163098,  0.14918177,  0.16673257,\n",
       "         0.18428337,  0.20183416,  0.21938496,  0.23693576,  0.25448656,\n",
       "         0.27203735,  0.28958815,  0.30713895,  0.32468974,  0.34224054,\n",
       "         0.35979134,  0.37734213,  0.39489293,  0.41244373,  0.42999453,\n",
       "         0.44754532,  0.46509612,  0.48264692,  0.50019771,  0.51774851,\n",
       "         0.53529931,  0.5528501 ,  0.5704009 ,  0.5879517 ,  0.60550249,\n",
       "         0.62305329,  0.64060409,  0.65815489,  0.67570568,  0.69325648,\n",
       "         0.71080728,  0.72835807,  0.74590887,  0.76345967,  0.78101046,\n",
       "         0.79856126,  0.81611206,  0.83366286,  0.85121365,  0.86876445,\n",
       "         0.88631525,  0.90386604,  0.92141684,  0.93896764,  0.95651843,\n",
       "         0.97406923,  0.99162003,  1.00917082,  1.02672162,  1.04427242,\n",
       "         1.06182322,  1.07937401,  1.09692481,  1.11447561,  1.1320264 ,\n",
       "         1.1495772 ,  1.167128  ,  1.18467879,  1.20222959,  1.21978039,\n",
       "         1.23733118,  1.25488198,  1.27243278,  1.28998358,  1.30753437,\n",
       "         1.32508517,  1.34263597,  1.36018676,  1.37773756,  1.39528836,\n",
       "         1.41283915,  1.43038995,  1.44794075,  1.46549155,  1.48304234,\n",
       "         1.50059314,  1.51814394,  1.53569473,  1.55324553,  1.57079633]),\n",
       " array([-142.        , -140.99646643, -139.99293286, -138.98939929,\n",
       "        -137.98586572, -136.98233216, -135.97879859, -134.97526502,\n",
       "        -133.97173145, -132.96819788, -131.96466431, -130.96113074,\n",
       "        -129.95759717, -128.9540636 , -127.95053004, -126.94699647,\n",
       "        -125.9434629 , -124.93992933, -123.93639576, -122.93286219,\n",
       "        -121.92932862, -120.92579505, -119.92226148, -118.91872792,\n",
       "        -117.91519435, -116.91166078, -115.90812721, -114.90459364,\n",
       "        -113.90106007, -112.8975265 , -111.89399293, -110.89045936,\n",
       "        -109.8869258 , -108.88339223, -107.87985866, -106.87632509,\n",
       "        -105.87279152, -104.86925795, -103.86572438, -102.86219081,\n",
       "        -101.85865724, -100.85512367,  -99.85159011,  -98.84805654,\n",
       "         -97.84452297,  -96.8409894 ,  -95.83745583,  -94.83392226,\n",
       "         -93.83038869,  -92.82685512,  -91.82332155,  -90.81978799,\n",
       "         -89.81625442,  -88.81272085,  -87.80918728,  -86.80565371,\n",
       "         -85.80212014,  -84.79858657,  -83.795053  ,  -82.79151943,\n",
       "         -81.78798587,  -80.7844523 ,  -79.78091873,  -78.77738516,\n",
       "         -77.77385159,  -76.77031802,  -75.76678445,  -74.76325088,\n",
       "         -73.75971731,  -72.75618375,  -71.75265018,  -70.74911661,\n",
       "         -69.74558304,  -68.74204947,  -67.7385159 ,  -66.73498233,\n",
       "         -65.73144876,  -64.72791519,  -63.72438163,  -62.72084806,\n",
       "         -61.71731449,  -60.71378092,  -59.71024735,  -58.70671378,\n",
       "         -57.70318021,  -56.69964664,  -55.69611307,  -54.69257951,\n",
       "         -53.68904594,  -52.68551237,  -51.6819788 ,  -50.67844523,\n",
       "         -49.67491166,  -48.67137809,  -47.66784452,  -46.66431095,\n",
       "         -45.66077739,  -44.65724382,  -43.65371025,  -42.65017668,\n",
       "         -41.64664311,  -40.64310954,  -39.63957597,  -38.6360424 ,\n",
       "         -37.63250883,  -36.62897527,  -35.6254417 ,  -34.62190813,\n",
       "         -33.61837456,  -32.61484099,  -31.61130742,  -30.60777385,\n",
       "         -29.60424028,  -28.60070671,  -27.59717314,  -26.59363958,\n",
       "         -25.59010601,  -24.58657244,  -23.58303887,  -22.5795053 ,\n",
       "         -21.57597173,  -20.57243816,  -19.56890459,  -18.56537102,\n",
       "         -17.56183746,  -16.55830389,  -15.55477032,  -14.55123675,\n",
       "         -13.54770318,  -12.54416961,  -11.54063604,  -10.53710247,\n",
       "          -9.5335689 ,   -8.53003534,   -7.52650177,   -6.5229682 ,\n",
       "          -5.51943463,   -4.51590106,   -3.51236749,   -2.50883392,\n",
       "          -1.50530035,   -0.50176678,    0.50176678,    1.50530035,\n",
       "           2.50883392,    3.51236749,    4.51590106,    5.51943463,\n",
       "           6.5229682 ,    7.52650177,    8.53003534,    9.5335689 ,\n",
       "          10.53710247,   11.54063604,   12.54416961,   13.54770318,\n",
       "          14.55123675,   15.55477032,   16.55830389,   17.56183746,\n",
       "          18.56537102,   19.56890459,   20.57243816,   21.57597173,\n",
       "          22.5795053 ,   23.58303887,   24.58657244,   25.59010601,\n",
       "          26.59363958,   27.59717314,   28.60070671,   29.60424028,\n",
       "          30.60777385,   31.61130742,   32.61484099,   33.61837456,\n",
       "          34.62190813,   35.6254417 ,   36.62897527,   37.63250883,\n",
       "          38.6360424 ,   39.63957597,   40.64310954,   41.64664311,\n",
       "          42.65017668,   43.65371025,   44.65724382,   45.66077739,\n",
       "          46.66431095,   47.66784452,   48.67137809,   49.67491166,\n",
       "          50.67844523,   51.6819788 ,   52.68551237,   53.68904594,\n",
       "          54.69257951,   55.69611307,   56.69964664,   57.70318021,\n",
       "          58.70671378,   59.71024735,   60.71378092,   61.71731449,\n",
       "          62.72084806,   63.72438163,   64.72791519,   65.73144876,\n",
       "          66.73498233,   67.7385159 ,   68.74204947,   69.74558304,\n",
       "          70.74911661,   71.75265018,   72.75618375,   73.75971731,\n",
       "          74.76325088,   75.76678445,   76.77031802,   77.77385159,\n",
       "          78.77738516,   79.78091873,   80.7844523 ,   81.78798587,\n",
       "          82.79151943,   83.795053  ,   84.79858657,   85.80212014,\n",
       "          86.80565371,   87.80918728,   88.81272085,   89.81625442,\n",
       "          90.81978799,   91.82332155,   92.82685512,   93.83038869,\n",
       "          94.83392226,   95.83745583,   96.8409894 ,   97.84452297,\n",
       "          98.84805654,   99.85159011,  100.85512367,  101.85865724,\n",
       "         102.86219081,  103.86572438,  104.86925795,  105.87279152,\n",
       "         106.87632509,  107.87985866,  108.88339223,  109.8869258 ,\n",
       "         110.89045936,  111.89399293,  112.8975265 ,  113.90106007,\n",
       "         114.90459364,  115.90812721,  116.91166078,  117.91519435,\n",
       "         118.91872792,  119.92226148,  120.92579505,  121.92932862,\n",
       "         122.93286219,  123.93639576,  124.93992933,  125.9434629 ,\n",
       "         126.94699647,  127.95053004,  128.9540636 ,  129.95759717,\n",
       "         130.96113074,  131.96466431,  132.96819788,  133.97173145,\n",
       "         134.97526502,  135.97879859,  136.98233216,  137.98586572,\n",
       "         138.98939929,  139.99293286,  140.99646643,  142.        ]))"
      ]
     },
     "execution_count": 6,
     "metadata": {},
     "output_type": "execute_result"
    }
   ],
   "source": [
    "hough_line(image)"
   ]
  },
  {
   "cell_type": "code",
   "execution_count": 5,
   "id": "b25270b1",
   "metadata": {},
   "outputs": [],
   "source": [
    "h, theta, d = hough_line(image)"
   ]
  },
  {
   "cell_type": "code",
   "execution_count": 8,
   "id": "74ec990a",
   "metadata": {},
   "outputs": [
    {
     "data": {
      "text/plain": [
       "(array([51, 50, 33], dtype=uint64),\n",
       " array([0.79856126, 1.57079633, 0.0087754 ]),\n",
       " array([70.74911661, 25.59010601, 25.59010601]))"
      ]
     },
     "execution_count": 8,
     "metadata": {},
     "output_type": "execute_result"
    }
   ],
   "source": [
    "hough_line_peaks(h, theta, d)"
   ]
  },
  {
   "cell_type": "code",
   "execution_count": 17,
   "id": "efd35b8e",
   "metadata": {},
   "outputs": [
    {
     "name": "stdout",
     "output_type": "stream",
     "text": [
      "51 0.79856126110802 70.74911660777386\n",
      "50 1.5707963267948966 25.590106007067135\n",
      "33 0.008775398473714446 25.590106007067135\n"
     ]
    }
   ],
   "source": [
    "for _, angle, dist in zip(*hough_line_peaks(h, theta, d)):\n",
    "    print(_, angle, dist)"
   ]
  },
  {
   "cell_type": "code",
   "execution_count": 18,
   "id": "43f9794f",
   "metadata": {},
   "outputs": [
    {
     "data": {
      "image/png": "[encoded data removed]",
      "text/plain": [
       "<Figure size 1080x432 with 2 Axes>"
      ]
     },
     "metadata": {
      "needs_background": "light"
     },
     "output_type": "display_data"
    }
   ],
   "source": [
    "fig, axes = plt.subplots(1, 2, figsize=(15, 6))\n",
    "ax = axes.ravel()\n",
    "ax[0].imshow(image, cmap=cm.gray)\n",
    "ax[0].set_title('Input image')\n",
    "ax[0].set_axis_off()\n",
    "ax[1].imshow(image, cmap=cm.gray)\n",
    "for _, angle, dist in zip(*hough_line_peaks(h, theta, d)):\n",
    "    y0 = (dist - 0 * np.cos(angle)) / np.sin(angle)\n",
    "    y1 = (dist - image.shape[1] * np.cos(angle)) / np.sin(angle)\n",
    "    ax[1].plot((0, image.shape[1]), (y0, y1), '-r')\n",
    "ax[1].set_xlim((0, image.shape[1]))\n",
    "ax[1].set_ylim((image.shape[0], 0))\n",
    "ax[1].set_axis_off()\n",
    "ax[1].set_title('Detected lines')\n",
    "plt.tight_layout()\n",
    "plt.show()"
   ]
  },
  {
   "cell_type": "code",
   "execution_count": null,
   "id": "54bb8b98",
   "metadata": {},
   "outputs": [],
   "source": []
  }
 ],
 "metadata": {
  "kernelspec": {
   "display_name": "Python 3 (ipykernel)",
   "language": "python",
   "name": "python3"
  },
  "language_info": {
   "codemirror_mode": {
    "name": "ipython",
    "version": 3
   },
   "file_extension": ".py",
   "mimetype": "text/x-python",
   "name": "python",
   "nbconvert_exporter": "python",
   "pygments_lexer": "ipython3",
   "version": "3.9.7"
  }
 },
 "nbformat": 4,
 "nbformat_minor": 5
}
